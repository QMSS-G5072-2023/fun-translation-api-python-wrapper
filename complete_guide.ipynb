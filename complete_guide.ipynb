{
 "cells": [
  {
   "cell_type": "markdown",
   "id": "9ae6c660-c2b3-4712-b09d-9dafc918d2db",
   "metadata": {},
   "source": [
    "## A complete guide to the functions in `python_funtranslate`"
   ]
  },
  {
   "cell_type": "markdown",
   "id": "e3da48b6-dfa3-4087-a17b-e2fff9d6fcdc",
   "metadata": {},
   "source": [
    "This guide shows\n",
    "- how the functions were written\n",
    "- how to use different arguements to get fun results\n",
    "\n",
    "For a quick guide on the best features of this package, please refer to quick_guide.ipynb"
   ]
  },
  {
   "cell_type": "code",
   "execution_count": 1,
   "id": "98e726f4-9829-45b9-be1a-f7c29ccbf516",
   "metadata": {},
   "outputs": [],
   "source": [
    "import requests\n",
    "import json\n",
    "\n",
    "import os\n",
    "import random\n",
    "import re\n",
    "\n",
    "import lxml\n",
    "from lxml import html\n",
    "from lxml import etree\n",
    "\n",
    "import pandas as pd\n",
    "import urllib.parse"
   ]
  },
  {
   "cell_type": "code",
   "execution_count": 2,
   "id": "21bfcde1-35af-4aa2-9c93-f305ddbb8a4c",
   "metadata": {},
   "outputs": [],
   "source": [
    "languages = {\n",
    "    # fictions\n",
    "    'tolkien': ['sindarin', 'quenya'],\n",
    "     'starwars': ['yoda', 'sith', 'gungan', 'huttese', 'mandalorian', 'cheunh'],\n",
    "     'startrek': ['vulcan', 'klingon'],\n",
    "     'gameofthrones': ['dothraki', 'valyrian'],\n",
    "     'marvel': ['groot', 'minion'],\n",
    "\n",
    "     # english varieties\n",
    "     'englishes': ['oldenglish', 'shakespeare', 'post-modern', 'pirate'],\n",
    "     \n",
    "     # language games\n",
    "     'wordgame': ['leetspeak', 'pig-latin', 'ferb-latin']}"
   ]
  },
  {
   "cell_type": "code",
   "execution_count": 3,
   "id": "6979afde-1e67-4cf3-8db1-d7cf56adc6ba",
   "metadata": {},
   "outputs": [],
   "source": [
    "languages_list = [val for key, values in languages.items() for val in values]\n",
    "languages_list.append('morse') #special category"
   ]
  },
  {
   "cell_type": "markdown",
   "id": "a9f19f37-a0e2-4e49-9961-af6d19f9c35e",
   "metadata": {},
   "source": [
    "#### `get_full_description` function: Get the full description of one fun language by web scraping."
   ]
  },
  {
   "cell_type": "code",
   "execution_count": 4,
   "id": "a56f945d-3597-4e74-a22e-b52f98ab5f5e",
   "metadata": {},
   "outputs": [],
   "source": [
    "def get_full_description(language = 'leetspeak'):\n",
    "    \"\"\"\n",
    "    Get the full description of one fun language by web scraping.\n",
    "\n",
    "    Parameters\n",
    "    ----------\n",
    "    language: \n",
    "    String parameter, set as 'leetspeak' by default.\n",
    "\n",
    "    Returns\n",
    "    -------\n",
    "    Returns a string of the language's full description\n",
    "    Returns \"no description\" if the input language is not a part of the Fun Translation API website.\n",
    "\n",
    "    Example\n",
    "    --------\n",
    "    >>>get_full_description()\n",
    "    'Convert from English to Leet Speak. Leetspeak an informal language or code used on the Internet, in which standard letters are often replaced by numerals or special characters. It is also sometimes referred as H4X0R which is \"Hacker\" in leetspeak. Leet (or \"1337\"), also known as eleet or leetspeak, can be thought of as an alternative alphabet for the English language. It is used primarily on the Internet. It uses various combinations of ASCII characters to replace Latinate letters. For example, leet spellings of the word leet include 1337 and l33t; eleet may be spelled 31337 or 3l33t.'\n",
    "    >>>get_full_description(language = 'post-modern')\n",
    "    'Convert from plain English to Postmordern Speak. If you have the need to sound semiotic-ally and subliminally cool in party conversations we can help you! Our post-modern translator will make you the sophisticated conversationalist.'\n",
    "    \"\"\"\n",
    "    web_url = f'https://funtranslations.com/{language}'\n",
    "    web_html = requests.get(web_url)\n",
    "    web_doc = html.fromstring(web_html.content)\n",
    "    description = web_doc.xpath('//meta[@name=\"description\"]/@content')\n",
    "    if description:\n",
    "        return description[0]\n",
    "    else:\n",
    "        return \"no description\""
   ]
  },
  {
   "cell_type": "markdown",
   "id": "9063ad3a-a651-4663-820f-f2a30eaf1010",
   "metadata": {},
   "source": [
    "#### `get_full_description` example: What does post-modern mean?"
   ]
  },
  {
   "cell_type": "code",
   "execution_count": 6,
   "id": "70f52d90-b117-4009-bc6b-4fd2d6cdccb0",
   "metadata": {},
   "outputs": [
    {
     "data": {
      "text/plain": [
       "'Convert from plain English to Postmordern Speak. If you have the need to sound semiotic-ally and subliminally cool in party conversations we can help you! Our post-modern translator will make you the sophisticated conversationalist.'"
      ]
     },
     "execution_count": 6,
     "metadata": {},
     "output_type": "execute_result"
    }
   ],
   "source": [
    "get_full_description(language = 'post-modern')"
   ]
  },
  {
   "cell_type": "markdown",
   "id": "b121d9e1-143e-455e-b6a7-f3c5be0c8371",
   "metadata": {},
   "source": [
    "#### `get_languages` function: Get short descriptions of all fun languages and their category."
   ]
  },
  {
   "cell_type": "code",
   "execution_count": 5,
   "id": "d8f970e4-f632-4adc-a368-db7afcd62a7e",
   "metadata": {},
   "outputs": [],
   "source": [
    "def get_languages():\n",
    "    \"\"\"\n",
    "    Get short descriptions of all fun languages and their category.\n",
    "    \n",
    "    \"\"\"\n",
    "    \n",
    "    result = []\n",
    "    for category, language_list in languages.items():\n",
    "        for language in language_list:\n",
    "            description = get_full_description(language)\n",
    "            sentences = description.split('. ')\n",
    "            new_description = '. '.join(sentences[1:2])\n",
    "            result.append({\"language\": language, \"description\": new_description})\n",
    "    df1 = pd.DataFrame(result)\n",
    "    df2 = pd.DataFrame([(key, val) for key, values in languages.items() for val in values], columns=['category', 'language'])\n",
    "    df = pd.merge(df2, df1, on='language')\n",
    "    return df"
   ]
  },
  {
   "cell_type": "markdown",
   "id": "6b056dab-151b-4972-b118-86bd865268f3",
   "metadata": {},
   "source": [
    "#### `get_languages` example: Wait what are the available languages?"
   ]
  },
  {
   "cell_type": "code",
   "execution_count": 14,
   "id": "0ec35a49-6556-48f8-994b-ebabebb70eaf",
   "metadata": {},
   "outputs": [
    {
     "data": {
      "text/html": [
       "<div>\n",
       "<style scoped>\n",
       "    .dataframe tbody tr th:only-of-type {\n",
       "        vertical-align: middle;\n",
       "    }\n",
       "\n",
       "    .dataframe tbody tr th {\n",
       "        vertical-align: top;\n",
       "    }\n",
       "\n",
       "    .dataframe thead th {\n",
       "        text-align: right;\n",
       "    }\n",
       "</style>\n",
       "<table border=\"1\" class=\"dataframe\">\n",
       "  <thead>\n",
       "    <tr style=\"text-align: right;\">\n",
       "      <th></th>\n",
       "      <th>category</th>\n",
       "      <th>language</th>\n",
       "      <th>description</th>\n",
       "    </tr>\n",
       "  </thead>\n",
       "  <tbody>\n",
       "    <tr>\n",
       "      <th>0</th>\n",
       "      <td>tolkien</td>\n",
       "      <td>sindarin</td>\n",
       "      <td>Sindarin is one of the many languages spoken b...</td>\n",
       "    </tr>\n",
       "    <tr>\n",
       "      <th>1</th>\n",
       "      <td>tolkien</td>\n",
       "      <td>quenya</td>\n",
       "      <td>Quenya is one of the many languages spoken by ...</td>\n",
       "    </tr>\n",
       "    <tr>\n",
       "      <th>2</th>\n",
       "      <td>starwars</td>\n",
       "      <td>yoda</td>\n",
       "      <td>Yoda often orders sentences as Object-Subject-...</td>\n",
       "    </tr>\n",
       "    <tr>\n",
       "      <th>3</th>\n",
       "      <td>starwars</td>\n",
       "      <td>sith</td>\n",
       "      <td>The Sith language was the native language of t...</td>\n",
       "    </tr>\n",
       "    <tr>\n",
       "      <th>4</th>\n",
       "      <td>starwars</td>\n",
       "      <td>gungan</td>\n",
       "      <td>Star Wars is a Disney Movie and the related c...</td>\n",
       "    </tr>\n",
       "    <tr>\n",
       "      <th>5</th>\n",
       "      <td>starwars</td>\n",
       "      <td>huttese</td>\n",
       "      <td>Huttese was the language spoken by the Hutts, ...</td>\n",
       "    </tr>\n",
       "    <tr>\n",
       "      <th>6</th>\n",
       "      <td>starwars</td>\n",
       "      <td>mandalorian</td>\n",
       "      <td>Mando'a was the language of the people native ...</td>\n",
       "    </tr>\n",
       "    <tr>\n",
       "      <th>7</th>\n",
       "      <td>starwars</td>\n",
       "      <td>cheunh</td>\n",
       "      <td>Cheunh was the official language of the Chiss</td>\n",
       "    </tr>\n",
       "    <tr>\n",
       "      <th>8</th>\n",
       "      <td>startrek</td>\n",
       "      <td>vulcan</td>\n",
       "      <td>The Vulcan language was spoken by the Vulcans ...</td>\n",
       "    </tr>\n",
       "    <tr>\n",
       "      <th>9</th>\n",
       "      <td>startrek</td>\n",
       "      <td>klingon</td>\n",
       "      <td>The Klingons are a fictional extraterrestrial ...</td>\n",
       "    </tr>\n",
       "    <tr>\n",
       "      <th>10</th>\n",
       "      <td>gameofthrones</td>\n",
       "      <td>dothraki</td>\n",
       "      <td>The Dothraki language is a constructed fiction...</td>\n",
       "    </tr>\n",
       "    <tr>\n",
       "      <th>11</th>\n",
       "      <td>gameofthrones</td>\n",
       "      <td>valyrian</td>\n",
       "      <td>The Valyrian languages are a fictional languag...</td>\n",
       "    </tr>\n",
       "    <tr>\n",
       "      <th>12</th>\n",
       "      <td>marvel</td>\n",
       "      <td>groot</td>\n",
       "      <td>Created by Stan Lee, Larry Lieber and Jack Kir...</td>\n",
       "    </tr>\n",
       "    <tr>\n",
       "      <th>13</th>\n",
       "      <td>marvel</td>\n",
       "      <td>minion</td>\n",
       "      <td>This language is spoken by the minions in Desp...</td>\n",
       "    </tr>\n",
       "    <tr>\n",
       "      <th>14</th>\n",
       "      <td>englishes</td>\n",
       "      <td>oldenglish</td>\n",
       "      <td>Old English is the language of the Anglo-Saxon...</td>\n",
       "    </tr>\n",
       "    <tr>\n",
       "      <th>15</th>\n",
       "      <td>englishes</td>\n",
       "      <td>shakespeare</td>\n",
       "      <td>Shakespeare invented many words and his style ...</td>\n",
       "    </tr>\n",
       "    <tr>\n",
       "      <th>16</th>\n",
       "      <td>englishes</td>\n",
       "      <td>post-modern</td>\n",
       "      <td>If you have the need to sound semiotic-ally an...</td>\n",
       "    </tr>\n",
       "    <tr>\n",
       "      <th>17</th>\n",
       "      <td>englishes</td>\n",
       "      <td>pirate</td>\n",
       "      <td>Shiver me timbers! I be needin' t' send 'em al...</td>\n",
       "    </tr>\n",
       "    <tr>\n",
       "      <th>18</th>\n",
       "      <td>wordgame</td>\n",
       "      <td>leetspeak</td>\n",
       "      <td>Leetspeak an informal language or code used on...</td>\n",
       "    </tr>\n",
       "    <tr>\n",
       "      <th>19</th>\n",
       "      <td>wordgame</td>\n",
       "      <td>pig-latin</td>\n",
       "      <td>Pig Latin is a constructed language game in wh...</td>\n",
       "    </tr>\n",
       "    <tr>\n",
       "      <th>20</th>\n",
       "      <td>wordgame</td>\n",
       "      <td>ferb-latin</td>\n",
       "      <td>During their routine summer fun, the two broth...</td>\n",
       "    </tr>\n",
       "  </tbody>\n",
       "</table>\n",
       "</div>"
      ],
      "text/plain": [
       "         category     language  \\\n",
       "0         tolkien     sindarin   \n",
       "1         tolkien       quenya   \n",
       "2        starwars         yoda   \n",
       "3        starwars         sith   \n",
       "4        starwars       gungan   \n",
       "5        starwars      huttese   \n",
       "6        starwars  mandalorian   \n",
       "7        starwars       cheunh   \n",
       "8        startrek       vulcan   \n",
       "9        startrek      klingon   \n",
       "10  gameofthrones     dothraki   \n",
       "11  gameofthrones     valyrian   \n",
       "12         marvel        groot   \n",
       "13         marvel       minion   \n",
       "14      englishes   oldenglish   \n",
       "15      englishes  shakespeare   \n",
       "16      englishes  post-modern   \n",
       "17      englishes       pirate   \n",
       "18       wordgame    leetspeak   \n",
       "19       wordgame    pig-latin   \n",
       "20       wordgame   ferb-latin   \n",
       "\n",
       "                                          description  \n",
       "0   Sindarin is one of the many languages spoken b...  \n",
       "1   Quenya is one of the many languages spoken by ...  \n",
       "2   Yoda often orders sentences as Object-Subject-...  \n",
       "3   The Sith language was the native language of t...  \n",
       "4    Star Wars is a Disney Movie and the related c...  \n",
       "5   Huttese was the language spoken by the Hutts, ...  \n",
       "6   Mando'a was the language of the people native ...  \n",
       "7       Cheunh was the official language of the Chiss  \n",
       "8   The Vulcan language was spoken by the Vulcans ...  \n",
       "9   The Klingons are a fictional extraterrestrial ...  \n",
       "10  The Dothraki language is a constructed fiction...  \n",
       "11  The Valyrian languages are a fictional languag...  \n",
       "12  Created by Stan Lee, Larry Lieber and Jack Kir...  \n",
       "13  This language is spoken by the minions in Desp...  \n",
       "14  Old English is the language of the Anglo-Saxon...  \n",
       "15  Shakespeare invented many words and his style ...  \n",
       "16  If you have the need to sound semiotic-ally an...  \n",
       "17  Shiver me timbers! I be needin' t' send 'em al...  \n",
       "18  Leetspeak an informal language or code used on...  \n",
       "19  Pig Latin is a constructed language game in wh...  \n",
       "20  During their routine summer fun, the two broth...  "
      ]
     },
     "execution_count": 14,
     "metadata": {},
     "output_type": "execute_result"
    }
   ],
   "source": [
    "df = get_languages()\n",
    "df"
   ]
  },
  {
   "cell_type": "markdown",
   "id": "f8e485a9-371b-4105-b063-fab7706e55e3",
   "metadata": {},
   "source": [
    "#### `get_translation_json` function: Translate input text into one fun target language and returns the json format of API client request."
   ]
  },
  {
   "cell_type": "code",
   "execution_count": 6,
   "id": "cfbc7c4b-423f-436b-ba78-70bae29239c8",
   "metadata": {},
   "outputs": [],
   "source": [
    "def get_translation_json(in_text = 'Hello World!', target_language = 'random'):\n",
    "    \"\"\"\n",
    "    Translate input text into one fun target language and returns the json format of API client request.\n",
    "\n",
    "    Parameters\n",
    "    ----------\n",
    "    in_text: \n",
    "    String parameter, set as 'Hello World!' by default.\n",
    "    Strongly recommended in_text language: English\n",
    "\n",
    "    target_language:\n",
    "    String parameter, set as \"random\" by default.\n",
    "    Use the function get_languages() for more information on available target languages.\n",
    "    \n",
    "    Returns\n",
    "    -------\n",
    "    Returns the json format of API client request\n",
    "\n",
    "    Example\n",
    "    --------\n",
    "    >>>get_translation_json()\n",
    "    {'success': {'total': 1},\n",
    "    'contents': {'translated': \"Hello qo'!\",\n",
    "    'text': 'Hello World!',\n",
    "    'translation': 'klingon'}}\n",
    "    \"\"\"\n",
    "    \n",
    "    url_text = urllib.parse.quote(in_text)\n",
    "\n",
    "    if target_language == 'random':\n",
    "        category = random.choice(list(languages.keys()))\n",
    "        target_language = random.choice(languages[category])\n",
    "    url = f'https://api.funtranslations.com/translate/{target_language}.json?text={url_text}'\n",
    "    headers = {'X-Funtranslations-Api-Secret': API_KEY}\n",
    "    r1 = requests.get(url, headers=headers)\n",
    "    #r1 = requests.get(\n",
    "        #f'https://api.funtranslations.com/translate/{target_language}.json?text={url_text}')\n",
    "    fun_json1 = r1.json()\n",
    "    return fun_json1\n",
    "    "
   ]
  },
  {
   "cell_type": "markdown",
   "id": "82bb4f01-4652-4a04-b668-27b563a75af3",
   "metadata": {},
   "source": [
    "#### `get_translation_json` example: What would Worf say?"
   ]
  },
  {
   "cell_type": "code",
   "execution_count": 162,
   "id": "4dd41f9c-d09a-4cab-8d48-9eb6664fc78f",
   "metadata": {},
   "outputs": [
    {
     "data": {
      "text/plain": [
       "{'success': {'total': 1},\n",
       " 'contents': {'translated': 'Hello visuom!',\n",
       "  'text': 'Hello World!',\n",
       "  'translation': 'sith'}}"
      ]
     },
     "execution_count": 162,
     "metadata": {},
     "output_type": "execute_result"
    }
   ],
   "source": [
    "get_translation_json()"
   ]
  },
  {
   "cell_type": "markdown",
   "id": "b2b4f5b8-ab66-44aa-a9a3-eed506c80a17",
   "metadata": {},
   "source": [
    "#### `get_hard2read` function: Turn your input into a secret code by translating it twice."
   ]
  },
  {
   "cell_type": "code",
   "execution_count": 7,
   "id": "deef8443-4b82-4105-b53a-35e855440047",
   "metadata": {},
   "outputs": [],
   "source": [
    "def get_hard2read(in_text = 'How hard can it be?', lan1 = 'minion', lan2 = 'leetspeak'):\n",
    "    \"\"\"\n",
    "    Turn your input into a secret code by translating it twice.\n",
    "\n",
    "    Parameters\n",
    "    ----------\n",
    "    in_text: \n",
    "    String parameter, set as 'How hard can it be?' by default.\n",
    "    Strongly recommended in_text language: English\n",
    "\n",
    "    lan1:\n",
    "    String parameter, set as 'minion' by default.\n",
    "    This is the language your input firstly gets translated into.\n",
    "    Use the function get_languages() for more information on available target languages.\n",
    "\n",
    "    lan2:\n",
    "    String parameter, set as 'leetspeak' by default.\n",
    "    This is the language your input eventually gets translated into.\n",
    "    Strongly recommended lan2: leetspeak, pig-latin, ferb-latin, morse\n",
    "    \n",
    "    Returns\n",
    "    -------\n",
    "    Returns a string as a secret code.\n",
    "    Returns False if the input is not correct.\n",
    "    Returns nothing if the request fails.\n",
    "\n",
    "    Example\n",
    "    --------\n",
    "    >>>get_hard2read()\n",
    "    '4m3e 0W PUdum p!K 83?'\n",
    "    >>>get_hard2read(lan1 = \"newspeak\")\n",
    "    False\n",
    "    \"\"\"\n",
    "\n",
    "    if type(lan1) != str or lan1.lower() not in languages_list or type(lan2) != str or lan2.lower() not in languages_list:\n",
    "        return False\n",
    "    \n",
    "    json1 = get_translation_json(in_text = in_text, target_language = lan1)\n",
    "    if list(json1.keys())[0] != 'success': return\n",
    "    text2 = json1['contents']['translated']\n",
    "    json2 = get_translation_json(in_text = text2, target_language = lan2)\n",
    "    if list(json1.keys())[0] != 'success': return\n",
    "    return json2['contents']['translated']"
   ]
  },
  {
   "cell_type": "markdown",
   "id": "8aa37159-dca3-49d7-9016-f6c3017a0fef",
   "metadata": {},
   "source": [
    "#### `get_hard2read` example: How to generate a mysterious code?"
   ]
  },
  {
   "cell_type": "code",
   "execution_count": 177,
   "id": "f1d5ac25-8fda-4733-a47a-86da5c6b0a87",
   "metadata": {},
   "outputs": [
    {
     "data": {
      "text/plain": [
       "'4m3e 0W PUdum p!K 83?'"
      ]
     },
     "execution_count": 177,
     "metadata": {},
     "output_type": "execute_result"
    }
   ],
   "source": [
    "get_hard2read()"
   ]
  },
  {
   "cell_type": "code",
   "execution_count": 178,
   "id": "070c9419-4142-4989-be13-7a1565a007a5",
   "metadata": {},
   "outputs": [
    {
     "data": {
      "text/plain": [
       "'ow-Herb róvan tur- ha n-? '"
      ]
     },
     "execution_count": 178,
     "metadata": {},
     "output_type": "execute_result"
    }
   ],
   "source": [
    "get_hard2read(lan1 = 'sindarin', lan2 = 'ferb-latin')"
   ]
  },
  {
   "cell_type": "code",
   "execution_count": 238,
   "id": "febadfc4-e9bb-426c-a03d-b97425d8f3f8",
   "metadata": {},
   "outputs": [
    {
     "data": {
      "text/plain": [
       "'.... --- .--     .... .- .-. -..     -.-. .- -.     .. -     -... . ..--.. '"
      ]
     },
     "execution_count": 238,
     "metadata": {},
     "output_type": "execute_result"
    }
   ],
   "source": [
    "get_hard2read(lan1 = 'pirate', lan2 = 'morse')"
   ]
  },
  {
   "cell_type": "markdown",
   "id": "825670be-8a99-41ae-a400-d448445ad744",
   "metadata": {},
   "source": [
    "#### `get_translation` function: Get some fun translations in a pd dataframe format."
   ]
  },
  {
   "cell_type": "code",
   "execution_count": 8,
   "id": "c2fbefd1-88c8-40d4-a174-ab427e2d1b16",
   "metadata": {},
   "outputs": [],
   "source": [
    "def get_translation(\n",
    "    in_text = \"\"\"Some say the world will end in fire,\n",
    "    Some say in ice.\n",
    "    From what I’ve tasted of desire\n",
    "    I hold with those who favor fire.\n",
    "    But if it had to perish twice,\n",
    "    I think I know enough of hate\n",
    "    To say that for destruction ice\n",
    "    Is also great\n",
    "    And would suffice.\"\"\", \n",
    "    target_languages = ['klingon'],\n",
    "    by_sentence = False):\n",
    "    \n",
    "    \"\"\"\n",
    "    Get some fun translations in a pd dataframe format.\n",
    "\n",
    "    Parameters\n",
    "    ----------\n",
    "    in_text: \n",
    "    String parameter, set as a short poem by Robert Frost by default.\n",
    "    Strongly recommended in_text language: English\n",
    "\n",
    "    target_languages:\n",
    "    List parameter, set as ['klingon'] by default.\n",
    "    Put all fun languages you want the in_text to be translated into!\n",
    "    However, users of public endpoint without an API key have a rate limit. Be careful!\n",
    "\n",
    "    by_sentence:\n",
    "    Boolean parameter, set as False by default.\n",
    "    Decides whether the output is separated by sentences.\n",
    "    Yoda speak and morse code cannot be seperated by sentence.\n",
    "    \n",
    "    Returns\n",
    "    -------\n",
    "    Returns a dataframe that contains the input text, the translated text, and the corresponding fun language of the translated text.\n",
    "\n",
    "    Example\n",
    "    --------\n",
    "    get_translation(target_languages = ['klingon', 'sith'])\n",
    "    >>> Sentence\tTranslated\tTranslation\n",
    "    0\tSome say the world will end in fire, Some say ...\t'op jatlh the qo' will van in qul, 'op jatlh ...\tklingon\n",
    "    1\tSome say the world will end in fire, Some say ...\tKair zodis tave visuom valia qorit kash saud, ...\tsith\n",
    "    \n",
    "    \"\"\"\n",
    "    \n",
    "\n",
    "    in_text = in_text.replace('\\n', ' ')\n",
    "    in_text = re.sub(r'\\s+', ' ', in_text)\n",
    "\n",
    "    in_list = []\n",
    "    out_list = []\n",
    "    lan_list = []\n",
    "    df = pd.DataFrame({'Sentence':[], 'Translated': [], 'Translation': []})\n",
    "\n",
    "    if type(target_languages) != list:\n",
    "        return False\n",
    "        \n",
    "    else:\n",
    "        for target in target_languages:\n",
    "            if type(target) != str or target.lower() not in languages_list:\n",
    "                continue\n",
    "                \n",
    "            else:\n",
    "                json = get_translation_json(in_text = in_text, target_language = target.lower())\n",
    "\n",
    "            if list(json.keys())[0] != 'success':\n",
    "                in_list.append(in_text)\n",
    "                out_list.append('')\n",
    "                lan_list.append(target)\n",
    "                continue\n",
    "                \n",
    "            if by_sentence == True:\n",
    "                sentences1 = re.split(r'(?<!\\w\\.\\w.)(?<![A-Z][a-z]\\.)(?<=\\.|\\?)\\s', json['contents']['text'])\n",
    "                sentences2 = re.split(r'(?<!\\w\\.\\w.)(?<![A-Z][a-z]\\.)(?<=\\.|\\?)\\s', json['contents']['translated'])\n",
    "                df1 = pd.DataFrame({'Sentence': sentences1, 'Translated': sentences2, 'Translation': json['contents']['translation']})\n",
    "                df = pd.concat([df, df1])\n",
    "\n",
    "            else:\n",
    "                in_list.append(json['contents']['text'])\n",
    "                out_list.append(json['contents']['translated'])\n",
    "                lan_list.append(json['contents']['translation'])\n",
    "                \n",
    "            data = {'Sentence': in_list, 'Translated': out_list, 'Translation': lan_list}\n",
    "            df_data = pd.DataFrame(data)\n",
    "            \n",
    "        if by_sentence == False: return df_data\n",
    "        else: return df\n",
    "    "
   ]
  },
  {
   "cell_type": "markdown",
   "id": "35d23c87-6806-45d6-9231-edff1b2a3a3d",
   "metadata": {},
   "source": [
    "#### `get_translation` examples:"
   ]
  },
  {
   "cell_type": "code",
   "execution_count": 239,
   "id": "d9519f66-87f9-490e-9507-59e5732caa84",
   "metadata": {},
   "outputs": [
    {
     "data": {
      "text/html": [
       "<div>\n",
       "<style scoped>\n",
       "    .dataframe tbody tr th:only-of-type {\n",
       "        vertical-align: middle;\n",
       "    }\n",
       "\n",
       "    .dataframe tbody tr th {\n",
       "        vertical-align: top;\n",
       "    }\n",
       "\n",
       "    .dataframe thead th {\n",
       "        text-align: right;\n",
       "    }\n",
       "</style>\n",
       "<table border=\"1\" class=\"dataframe\">\n",
       "  <thead>\n",
       "    <tr style=\"text-align: right;\">\n",
       "      <th></th>\n",
       "      <th>Sentence</th>\n",
       "      <th>Translated</th>\n",
       "      <th>Translation</th>\n",
       "    </tr>\n",
       "  </thead>\n",
       "  <tbody>\n",
       "    <tr>\n",
       "      <th>0</th>\n",
       "      <td>Some say the world will end in fire, Some say ...</td>\n",
       "      <td>'op jatlh the qo' will van in qul,  'op jatlh ...</td>\n",
       "      <td>klingon</td>\n",
       "    </tr>\n",
       "  </tbody>\n",
       "</table>\n",
       "</div>"
      ],
      "text/plain": [
       "                                            Sentence  \\\n",
       "0  Some say the world will end in fire, Some say ...   \n",
       "\n",
       "                                          Translated Translation  \n",
       "0  'op jatlh the qo' will van in qul,  'op jatlh ...     klingon  "
      ]
     },
     "execution_count": 239,
     "metadata": {},
     "output_type": "execute_result"
    }
   ],
   "source": [
    "get_translation()"
   ]
  },
  {
   "cell_type": "code",
   "execution_count": 174,
   "id": "067f76a0-6fb6-4ddf-90c4-ae694a301b3e",
   "metadata": {},
   "outputs": [
    {
     "data": {
      "text/html": [
       "<div>\n",
       "<style scoped>\n",
       "    .dataframe tbody tr th:only-of-type {\n",
       "        vertical-align: middle;\n",
       "    }\n",
       "\n",
       "    .dataframe tbody tr th {\n",
       "        vertical-align: top;\n",
       "    }\n",
       "\n",
       "    .dataframe thead th {\n",
       "        text-align: right;\n",
       "    }\n",
       "</style>\n",
       "<table border=\"1\" class=\"dataframe\">\n",
       "  <thead>\n",
       "    <tr style=\"text-align: right;\">\n",
       "      <th></th>\n",
       "      <th>Sentence</th>\n",
       "      <th>Translated</th>\n",
       "      <th>Translation</th>\n",
       "    </tr>\n",
       "  </thead>\n",
       "  <tbody>\n",
       "    <tr>\n",
       "      <th>0</th>\n",
       "      <td>Some say the world will end in fire, Some say ...</td>\n",
       "      <td>'op jatlh the qo' will van in qul,  'op jatlh ...</td>\n",
       "      <td>klingon</td>\n",
       "    </tr>\n",
       "    <tr>\n",
       "      <th>1</th>\n",
       "      <td>From what I’ve tasted of desire I hold with th...</td>\n",
       "      <td>From nuqjatlh jih’ve tasted of neh jih 'uch wi...</td>\n",
       "      <td>klingon</td>\n",
       "    </tr>\n",
       "    <tr>\n",
       "      <th>2</th>\n",
       "      <td>But if it had to perish twice, I think I know ...</td>\n",
       "      <td>'ach if 'oh had to perish cha'logh,  jih qub j...</td>\n",
       "      <td>klingon</td>\n",
       "    </tr>\n",
       "    <tr>\n",
       "      <th>0</th>\n",
       "      <td>Some say the world will end in fire, Some say ...</td>\n",
       "      <td>Kair zodis tave visuom valia qorit kash saud, ...</td>\n",
       "      <td>sith</td>\n",
       "    </tr>\n",
       "    <tr>\n",
       "      <th>1</th>\n",
       "      <td>From what I’ve tasted of desire I hold with th...</td>\n",
       "      <td>Sulig kam nu’ve skoniji iv svajone nu galia su...</td>\n",
       "      <td>sith</td>\n",
       "    </tr>\n",
       "    <tr>\n",
       "      <th>2</th>\n",
       "      <td>But if it had to perish twice, I think I know ...</td>\n",
       "      <td>Kad ar zhol zin kia perish twice,  nu minti nu...</td>\n",
       "      <td>sith</td>\n",
       "    </tr>\n",
       "  </tbody>\n",
       "</table>\n",
       "</div>"
      ],
      "text/plain": [
       "                                            Sentence  \\\n",
       "0  Some say the world will end in fire, Some say ...   \n",
       "1  From what I’ve tasted of desire I hold with th...   \n",
       "2  But if it had to perish twice, I think I know ...   \n",
       "0  Some say the world will end in fire, Some say ...   \n",
       "1  From what I’ve tasted of desire I hold with th...   \n",
       "2  But if it had to perish twice, I think I know ...   \n",
       "\n",
       "                                          Translated Translation  \n",
       "0  'op jatlh the qo' will van in qul,  'op jatlh ...     klingon  \n",
       "1  From nuqjatlh jih’ve tasted of neh jih 'uch wi...     klingon  \n",
       "2  'ach if 'oh had to perish cha'logh,  jih qub j...     klingon  \n",
       "0  Kair zodis tave visuom valia qorit kash saud, ...        sith  \n",
       "1  Sulig kam nu’ve skoniji iv svajone nu galia su...        sith  \n",
       "2  Kad ar zhol zin kia perish twice,  nu minti nu...        sith  "
      ]
     },
     "execution_count": 174,
     "metadata": {},
     "output_type": "execute_result"
    }
   ],
   "source": [
    "get_translation(target_languages = ['klingon', 'sith'],by_sentence = True)"
   ]
  },
  {
   "cell_type": "code",
   "execution_count": 176,
   "id": "2cb14375-81a9-4faf-9bf3-5695ae6fedf4",
   "metadata": {},
   "outputs": [
    {
     "data": {
      "text/html": [
       "<div>\n",
       "<style scoped>\n",
       "    .dataframe tbody tr th:only-of-type {\n",
       "        vertical-align: middle;\n",
       "    }\n",
       "\n",
       "    .dataframe tbody tr th {\n",
       "        vertical-align: top;\n",
       "    }\n",
       "\n",
       "    .dataframe thead th {\n",
       "        text-align: right;\n",
       "    }\n",
       "</style>\n",
       "<table border=\"1\" class=\"dataframe\">\n",
       "  <thead>\n",
       "    <tr style=\"text-align: right;\">\n",
       "      <th></th>\n",
       "      <th>Sentence</th>\n",
       "      <th>Translated</th>\n",
       "      <th>Translation</th>\n",
       "    </tr>\n",
       "  </thead>\n",
       "  <tbody>\n",
       "    <tr>\n",
       "      <th>0</th>\n",
       "      <td>Some say the world will end in fire, Some say ...</td>\n",
       "      <td>Some say th' world will end in fire, Some say ...</td>\n",
       "      <td>pirate</td>\n",
       "    </tr>\n",
       "    <tr>\n",
       "      <th>1</th>\n",
       "      <td>From what I’ve tasted of desire I hold with th...</td>\n",
       "      <td>From what I’ve tasted o' desire I hold with t...</td>\n",
       "      <td>pirate</td>\n",
       "    </tr>\n",
       "    <tr>\n",
       "      <th>2</th>\n",
       "      <td>But if it had to perish twice, I think I know ...</td>\n",
       "      <td>But if it had t' perish twice, I think I be k...</td>\n",
       "      <td>pirate</td>\n",
       "    </tr>\n",
       "  </tbody>\n",
       "</table>\n",
       "</div>"
      ],
      "text/plain": [
       "                                            Sentence  \\\n",
       "0  Some say the world will end in fire, Some say ...   \n",
       "1  From what I’ve tasted of desire I hold with th...   \n",
       "2  But if it had to perish twice, I think I know ...   \n",
       "\n",
       "                                          Translated Translation  \n",
       "0  Some say th' world will end in fire, Some say ...      pirate  \n",
       "1   From what I’ve tasted o' desire I hold with t...      pirate  \n",
       "2   But if it had t' perish twice, I think I be k...      pirate  "
      ]
     },
     "execution_count": 176,
     "metadata": {},
     "output_type": "execute_result"
    }
   ],
   "source": [
    "get_translation(target_languages = ['pirate', 'd'],by_sentence = True)"
   ]
  },
  {
   "cell_type": "markdown",
   "id": "6c0bb0c0-6c3c-4a0b-985b-f535ffbfd59a",
   "metadata": {},
   "source": [
    "#### `sentence_similarity` function: Calculate the percentage of similarity between two sentences."
   ]
  },
  {
   "cell_type": "code",
   "execution_count": 9,
   "id": "5e8c468f-5f54-4b26-8bda-d2e99c2a33d0",
   "metadata": {},
   "outputs": [],
   "source": [
    "import seaborn as sns\n",
    "import matplotlib.pyplot as plt\n",
    "from sklearn.feature_extraction.text import TfidfVectorizer\n",
    "from sklearn.metrics.pairwise import cosine_similarity"
   ]
  },
  {
   "cell_type": "code",
   "execution_count": 10,
   "id": "c396b3ed-0760-4a55-a656-6dd87577ced3",
   "metadata": {},
   "outputs": [],
   "source": [
    "def sentence_similarity(sentence1, sentence2):\n",
    "    \"\"\"\n",
    "    Calculate the percentage of similarity between two sentences.\n",
    "    \n",
    "    \"\"\"\n",
    "    vectorizer = TfidfVectorizer()\n",
    "    tfidf_matrix = vectorizer.fit_transform([sentence1, sentence2])\n",
    "    similarity_score = cosine_similarity(tfidf_matrix[0], tfidf_matrix[1])[0][0]\n",
    "    return similarity_score"
   ]
  },
  {
   "cell_type": "markdown",
   "id": "357129b7-7b41-4eea-941d-a9e025e03635",
   "metadata": {},
   "source": [
    "#### `sentence_similarity` example: Usually there is no need to use it directly; it is necessary for another function."
   ]
  },
  {
   "cell_type": "code",
   "execution_count": 27,
   "id": "2e259c3d-2f28-401a-84c4-907c07758467",
   "metadata": {},
   "outputs": [
    {
     "data": {
      "text/plain": [
       "0.22028815056182974"
      ]
     },
     "execution_count": 27,
     "metadata": {},
     "output_type": "execute_result"
    }
   ],
   "source": [
    "sentence_similarity(\"Python great a e\", \"Python bad noo we\")"
   ]
  },
  {
   "cell_type": "markdown",
   "id": "f7feea41-0c66-47b8-b05e-838d7010b933",
   "metadata": {},
   "source": [
    "#### `similarity_matrix` function: Generate a matrix for the compare_fun_languages function"
   ]
  },
  {
   "cell_type": "code",
   "execution_count": 11,
   "id": "8114698f-ab4c-4c15-9ed2-44d0f5646f0f",
   "metadata": {},
   "outputs": [],
   "source": [
    "def similarity_matrix(sentences):\n",
    "    \"\"\"\n",
    "    Generate a matrix for the compare_fun_languages function\n",
    "    \n",
    "    \"\"\"\n",
    "    n = len(sentences)\n",
    "    matrix = [[0] * n for _ in range(n)]\n",
    "\n",
    "    for i in range(n):\n",
    "        for j in range(n):\n",
    "            matrix[i][j] = sentence_similarity(sentences[i], sentences[j])\n",
    "    return matrix"
   ]
  },
  {
   "cell_type": "markdown",
   "id": "dd5f4480-8b0f-4e49-8e61-5ce78f8edd5d",
   "metadata": {},
   "source": [
    "#### `sentence_similarity` example: As suggested aboove, usually there is no need to use it directly; it serves for another function.\n",
    "\n",
    "no example"
   ]
  },
  {
   "cell_type": "markdown",
   "id": "4484aca3-cc6a-4c9e-86b7-d6b1b4a0642c",
   "metadata": {},
   "source": [
    "#### `compare_fun_languages` function:  Compare some fun translations by looking at their similarity heatmap, their similarity matrix, or simply the translation result gathered in a pd dataframe."
   ]
  },
  {
   "cell_type": "code",
   "execution_count": 12,
   "id": "45dcc751-4c47-481c-93c0-e01bcd9758a4",
   "metadata": {},
   "outputs": [],
   "source": [
    "def compare_fun_languages(in_text = \"\"\"Beautiful is better than ugly.\n",
    "    Explicit is better than implicit.\n",
    "    Simple is better than complex.\n",
    "    Complex is better than complicated.\n",
    "    Flat is better than nested.\n",
    "    Sparse is better than dense.\n",
    "    Readability counts.\n",
    "    Special cases aren't special enough to break the rules.\n",
    "    Although practicality beats purity.\n",
    "    Errors should never pass silently.\n",
    "    Unless explicitly silenced.\n",
    "    In the face of ambiguity, refuse the temptation to guess.\n",
    "    There should be one-- and preferably only one --obvious way to do it.\n",
    "    Although that way may not be obvious at first unless you're Dutch.\n",
    "    Now is better than never.\n",
    "    Although never is often better than *right* now.\n",
    "    If the implementation is hard to explain, it's a bad idea.\n",
    "    If the implementation is easy to explain, it may be a good idea.\n",
    "    Namespaces are one honking great idea -- let's do more of those!\"\"\", \n",
    "    target_languages = ['sindarin', 'yoda', 'vulcan', 'dothraki', 'groot', 'oldenglish', 'leetspeak'],\n",
    "    heatmap = True, mapnote = False):\n",
    "\n",
    "    \n",
    "    \"\"\"\n",
    "    Compare some fun translations by looking at their similarity heatmap, their similarity matrix, or simply the translation result gathered in a pd dataframe.\n",
    "\n",
    "    Parameters\n",
    "    ----------\n",
    "    in_text: \n",
    "    String parameter, set as Zen of Python by default.\n",
    "    Strongly recommended in_text language: English\n",
    "\n",
    "    target_languages:\n",
    "    List parameter, set as ['sindarin', 'yoda', 'vulcan', 'dothraki', 'groot', 'oldenglish', 'leetspeak'] by default.\n",
    "    Put all fun languages you want the in_text to be translated into!\n",
    "    However, users of public endpoint without an API key have a rate limit. Be careful!\n",
    "\n",
    "    heatmap:\n",
    "    Boolean parameter, set as True by default.\n",
    "    decides whether show a graph that compares fun languages.\n",
    "\n",
    "    mapnote:\n",
    "    Boolean parameter, set as False by default.\n",
    "    decides the graph displays the specific numbers of sentence similarity.\n",
    "    \n",
    "    Returns\n",
    "    -------\n",
    "    return[0]: a dataframe that contains the input text, the translated text, and the corresponding fun language of the translated text.\n",
    "    return[1]: a matrix of sentence similarity\n",
    "    if hearmap == True, there will be a return[2], which is the heatmap graph.\n",
    "\n",
    "    \"\"\"\n",
    "\n",
    "    \n",
    "    df = get_translation(in_text = in_text, target_languages = target_languages, by_sentence = False)\n",
    "    sentences = list(df['Translated'])\n",
    "    sentences.append(in_text)\n",
    "    lans = list(df['Translation'])\n",
    "    lans.append('input language')\n",
    "    matrix = similarity_matrix(sentences)\n",
    "    if heatmap == True:\n",
    "        graph = sns.heatmap(matrix, annot= mapnote, xticklabels=lans, yticklabels=lans)\n",
    "        graph.set_title('Language Similarity Heatmap')\n",
    "        plt.show()\n",
    "        return df, matrix, graph\n",
    "    return df, matrix"
   ]
  },
  {
   "cell_type": "markdown",
   "id": "5d628f33-2a73-48bf-a979-c18243c260df",
   "metadata": {},
   "source": [
    "#### `compare_fun_languages` examples:"
   ]
  },
  {
   "cell_type": "code",
   "execution_count": 230,
   "id": "0393f304-69d1-4e19-bf76-ed6202f58b26",
   "metadata": {},
   "outputs": [],
   "source": [
    "a = compare_fun_languages(target_languages = ['sindarin', 'dothraki', 'groot', 'leetspeak'], heatmap = False)"
   ]
  },
  {
   "cell_type": "code",
   "execution_count": 231,
   "id": "cc598338-59dc-4148-9ed4-bcfc5e269481",
   "metadata": {},
   "outputs": [
    {
     "data": {
      "text/html": [
       "<div>\n",
       "<style scoped>\n",
       "    .dataframe tbody tr th:only-of-type {\n",
       "        vertical-align: middle;\n",
       "    }\n",
       "\n",
       "    .dataframe tbody tr th {\n",
       "        vertical-align: top;\n",
       "    }\n",
       "\n",
       "    .dataframe thead th {\n",
       "        text-align: right;\n",
       "    }\n",
       "</style>\n",
       "<table border=\"1\" class=\"dataframe\">\n",
       "  <thead>\n",
       "    <tr style=\"text-align: right;\">\n",
       "      <th></th>\n",
       "      <th>Sentence</th>\n",
       "      <th>Translated</th>\n",
       "      <th>Translation</th>\n",
       "    </tr>\n",
       "  </thead>\n",
       "  <tbody>\n",
       "    <tr>\n",
       "      <th>0</th>\n",
       "      <td>Beautiful is better than ugly. Explicit is bet...</td>\n",
       "      <td>Beautiful na- better than uglui. Explicit na- ...</td>\n",
       "      <td>sindarin</td>\n",
       "    </tr>\n",
       "    <tr>\n",
       "      <th>1</th>\n",
       "      <td>Beautiful is better than ugly. Explicit is bet...</td>\n",
       "      <td>Zheana is better than ugly. Explicit is better...</td>\n",
       "      <td>dothraki</td>\n",
       "    </tr>\n",
       "    <tr>\n",
       "      <th>2</th>\n",
       "      <td>Beautiful is better than ugly. Explicit is bet...</td>\n",
       "      <td>I am groot. I am groot. I am groot. I am groot...</td>\n",
       "      <td>groot</td>\n",
       "    </tr>\n",
       "    <tr>\n",
       "      <th>3</th>\n",
       "      <td>Beautiful is better than ugly. Explicit is bet...</td>\n",
       "      <td>b34U7|phUl |s b37tEr than UG1y. 3kzplIC|7 !s B...</td>\n",
       "      <td>leetspeak</td>\n",
       "    </tr>\n",
       "  </tbody>\n",
       "</table>\n",
       "</div>"
      ],
      "text/plain": [
       "                                            Sentence  \\\n",
       "0  Beautiful is better than ugly. Explicit is bet...   \n",
       "1  Beautiful is better than ugly. Explicit is bet...   \n",
       "2  Beautiful is better than ugly. Explicit is bet...   \n",
       "3  Beautiful is better than ugly. Explicit is bet...   \n",
       "\n",
       "                                          Translated Translation  \n",
       "0  Beautiful na- better than uglui. Explicit na- ...    sindarin  \n",
       "1  Zheana is better than ugly. Explicit is better...    dothraki  \n",
       "2  I am groot. I am groot. I am groot. I am groot...       groot  \n",
       "3  b34U7|phUl |s b37tEr than UG1y. 3kzplIC|7 !s B...   leetspeak  "
      ]
     },
     "execution_count": 231,
     "metadata": {},
     "output_type": "execute_result"
    }
   ],
   "source": [
    "a[0]"
   ]
  },
  {
   "cell_type": "code",
   "execution_count": 234,
   "id": "3669f9da-0359-4f1b-a42d-9e8ec2f994ea",
   "metadata": {},
   "outputs": [
    {
     "data": {
      "image/png": "[encoded data removed]",
      "text/plain": [
       "<Figure size 640x480 with 2 Axes>"
      ]
     },
     "metadata": {},
     "output_type": "display_data"
    }
   ],
   "source": [
    "b = compare_fun_languages(target_languages = ['sindarin', 'vulcan', 'oldenglish'], mapnote = True)"
   ]
  },
  {
   "cell_type": "code",
   "execution_count": 235,
   "id": "e10aab04-1030-47e9-8328-2697b18a9db6",
   "metadata": {},
   "outputs": [
    {
     "data": {
      "image/png": "[encoded data removed]",
      "text/plain": [
       "<Figure size 640x480 with 2 Axes>"
      ]
     },
     "metadata": {},
     "output_type": "display_data"
    }
   ],
   "source": [
    "c = compare_fun_languages()"
   ]
  },
  {
   "cell_type": "markdown",
   "id": "9e2c075e-a8f6-4d1a-8929-235c0cdf836f",
   "metadata": {},
   "source": [
    "### Pytest results (screenshot):"
   ]
  },
  {
   "cell_type": "markdown",
   "id": "e01778e2-a3b7-413f-9362-6e0c583315eb",
   "metadata": {},
   "source": [
    "![This is the pytest result I get from my terminal](pytest.png)"
   ]
  },
  {
   "cell_type": "code",
   "execution_count": null,
   "id": "4fe3c908-7a4f-4e68-9298-6a4938cc8c9f",
   "metadata": {},
   "outputs": [],
   "source": []
  }
 ],
 "metadata": {
  "kernelspec": {
   "display_name": "Python 3 (ipykernel)",
   "language": "python",
   "name": "python3"
  },
  "language_info": {
   "codemirror_mode": {
    "name": "ipython",
    "version": 3
   },
   "file_extension": ".py",
   "mimetype": "text/x-python",
   "name": "python",
   "nbconvert_exporter": "python",
   "pygments_lexer": "ipython3",
   "version": "3.11.5"
  }
 },
 "nbformat": 4,
 "nbformat_minor": 5
}
